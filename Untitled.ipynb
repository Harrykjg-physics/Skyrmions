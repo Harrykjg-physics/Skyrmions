{
 "cells": [
  {
   "cell_type": "code",
   "execution_count": 2,
   "metadata": {
    "collapsed": false
   },
   "outputs": [],
   "source": [
    "from __future__ import division\n",
    "import numpy as np\n",
    "import matplotlib.pyplot as plt\n",
    "import funciones_spin as sp\n",
    "import grilla_rectangular as gr\n",
    "import grilla_triangular as gt\n",
    "from scipy.fftpack import fft, fftfreq\n",
    "#%matplotlib notebook"
   ]
  },
  {
   "cell_type": "code",
   "execution_count": null,
   "metadata": {
    "collapsed": false
   },
   "outputs": [],
   "source": [
    "def theta(r, R, W):\n",
    "    return np.pi * np.arctan(np.exp(-(r-R)/W)) / np.arctan(np.exp(R/W))\n",
    "\n",
    "r = np.linspace(0, 20, 200)\n",
    "th = np.cos(theta(r, 7, 1))\n",
    "plt.plot(r, th)\n",
    "plt.show()"
   ]
  },
  {
   "cell_type": "code",
   "execution_count": 3,
   "metadata": {
    "collapsed": false
   },
   "outputs": [],
   "source": [
    "D1 = np.array([0.3, 0.4, 0.5, 0.6, 0.7, 0.8, 0.9, 1.0, 1.1, 1.2, 1.3, 1.4, 1.5, 1.6, 1.7, 1.8, 1.9, 2.0])\n",
    "E_skyrmion = np.array([2.2028358917, -10.5220571549, -26.8294566129, -46.087250023, -67.6192367467, -90.5364235283,\n",
    "                       -114.459054139, -139.48566891, -164.750538858, -190.984735323, -217.218931789, -244.145789923, \n",
    "                       -271.306626915, -298.467463907, -326.12980913, -354.063008579, -381.996208028, -409.929407477])\n",
    "E0 = -7439.9\n",
    "D2 = np.array([0, 0.5, 0.75, 1.0, 1.25, 1.5, 1.75, 2.0])\n",
    "E_ground = np.array([E0, -7683.5, -8167, -8776, -9522, -10344.8, -11405, -12334])"
   ]
  },
  {
   "cell_type": "code",
   "execution_count": 4,
   "metadata": {
    "collapsed": false
   },
   "outputs": [],
   "source": [
    "plt.figure(1)\n",
    "plt.plot(D1, E_skyrmion, '-*r', label='Energia AFM-Sk')\n",
    "plt.plot(D2, E_ground - E0, '-og', label='Estado antiferromagnetico relajado')\n",
    "plt.title('Energias del AFM-Sk y del estado basal, en funcion de D')\n",
    "plt.xlabel('$D$ [meV]')\n",
    "plt.ylabel('$E$ [meV]')\n",
    "plt.grid()\n",
    "plt.legend(loc='best')\n",
    "plt.show()"
   ]
  },
  {
   "cell_type": "code",
   "execution_count": null,
   "metadata": {
    "collapsed": false
   },
   "outputs": [],
   "source": [
    "#r1 = np.array([1, 0, 0])\n",
    "#r2 = np.array([0, 1, 0])\n",
    "#r3 = np.array([0, 0, 1])\n",
    "\n",
    "\n",
    "angulo1 = sp.solid_angle_triangle3(s, vec0, vec1)\n",
    "angulo2 = sp.solid_angle_triangle3(s, vec1, vec2)\n",
    "\n",
    "#angulo3 = sp.solid_angle_triangle2(s, vec0, vec1)\n",
    "#angulo4 = sp.solid_angle_triangle2(s, vec1, vec2)\n",
    "\n",
    "print (angulo1 + angulo2) / np.pi / 4\n",
    "#print (angulo3 + angulo4) / np.pi / 4"
   ]
  },
  {
   "cell_type": "code",
   "execution_count": null,
   "metadata": {
    "collapsed": false
   },
   "outputs": [],
   "source": [
    "ind_nodo = gr.indice_grilla_rectangular(nx, ny, 0, 0)\n",
    "ind_0 = gr.indice_grilla_rectangular(nx, ny, 1, 0)\n",
    "ind_1 = gr.indice_grilla_rectangular(nx, ny, 0, 1)\n",
    "ind_2 = gr.indice_grilla_rectangular(nx, ny, nx - 1, 1)\n",
    "\n",
    "s = spines_en_t[ind_nodo]\n",
    "vec0 = spines_en_t[ind_0]\n",
    "vec1 = spines_en_t[ind_1]\n",
    "vec2 = spines_en_t[ind_2]\n",
    "\n",
    "print sp.normalizar(vec0)\n",
    "print sp.normalizar(vec1)\n",
    "\n",
    "print sp.normalizar(vec2)\n"
   ]
  },
  {
   "cell_type": "code",
   "execution_count": null,
   "metadata": {
    "collapsed": false
   },
   "outputs": [],
   "source": [
    "fig = plt.figure()\n",
    "ax = fig.add_subplot(111, projection='3d')\n",
    "ax.set_xlim([-1, 1])\n",
    "ax.set_ylim([-1, 1])\n",
    "ax.set_zlim([-1, 1])\n",
    "color = 'green'\n",
    "arrow = sp.Arrow3D([0, s[0]], [0, s[1]], [0, s[2]], mutation_scale=10, lw=3, arrowstyle=\"-|>\", color='blue')\n",
    "ax.add_artist(arrow)\n",
    "arrow = sp.Arrow3D([0, vec0[0]], [0, vec0[1]], [0, vec0[2]], mutation_scale=10, lw=3, arrowstyle=\"-|>\", color=color)\n",
    "ax.add_artist(arrow)\n",
    "arrow = sp.Arrow3D([0, vec1[0]], [0, vec1[1]], [0, vec1[2]], mutation_scale=10, lw=3, arrowstyle=\"-|>\", color='red')\n",
    "ax.add_artist(arrow)\n",
    "arrow = sp.Arrow3D([0, vec0[0]], [0, vec1[1]], [0, vec2[2]], mutation_scale=10, lw=3, arrowstyle=\"-|>\", color='black')\n",
    "ax.add_artist(arrow)"
   ]
  },
  {
   "cell_type": "code",
   "execution_count": null,
   "metadata": {
    "collapsed": false
   },
   "outputs": [],
   "source": [
    "n = 40\n",
    "nx = n\n",
    "ny = n\n",
    "\n",
    "spines, posiciones = sp.cargar_spines()\n",
    "n_t = np.size(spines, 1)\n",
    "spines_en_t = spines[:, n_t - 1, :]\n",
    "\n",
    "#wending_number = gt.wending_number_triangular(spines_en_t, nx, ny)"
   ]
  },
  {
   "cell_type": "code",
   "execution_count": null,
   "metadata": {
    "collapsed": false
   },
   "outputs": [],
   "source": [
    "at = gt.w_n_nodo_triangular(spines_en_t, nx, ny, 1, 0)\n",
    "at"
   ]
  },
  {
   "cell_type": "code",
   "execution_count": null,
   "metadata": {
    "collapsed": false
   },
   "outputs": [],
   "source": [
    "a = np.array([[0, 10], [40, 100]])\n",
    "plt.imshow(a[:, ::-1].transpose(), cmap='hot')"
   ]
  }
 ],
 "metadata": {
  "kernelspec": {
   "display_name": "Python [Root]",
   "language": "python",
   "name": "Python [Root]"
  },
  "language_info": {
   "codemirror_mode": {
    "name": "ipython",
    "version": 2
   },
   "file_extension": ".py",
   "mimetype": "text/x-python",
   "name": "python",
   "nbconvert_exporter": "python",
   "pygments_lexer": "ipython2",
   "version": "2.7.12"
  }
 },
 "nbformat": 4,
 "nbformat_minor": 0
}
