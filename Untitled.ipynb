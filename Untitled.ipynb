{
 "cells": [
  {
   "cell_type": "code",
   "execution_count": 1,
   "metadata": {
    "collapsed": false
   },
   "outputs": [],
   "source": [
    "from __future__ import division\n",
    "import numpy as np\n",
    "import matplotlib.pyplot as plt\n",
    "import funciones_spin as sp\n",
    "import grilla_rectangular as gr\n",
    "from scipy.fftpack import fft, fftfreq\n",
    "%matplotlib notebook"
   ]
  },
  {
   "cell_type": "code",
   "execution_count": 2,
   "metadata": {
    "collapsed": false
   },
   "outputs": [],
   "source": [
    "n = 512\n",
    "lista_nodos0, posiciones = gr.iniciar_grilla_rectangular(n, n, 0.7, modo='peq_osc')"
   ]
  },
  {
   "cell_type": "code",
   "execution_count": null,
   "metadata": {
    "collapsed": false
   },
   "outputs": [],
   "source": [
    "step = 0.1\n",
    "tmax = 20\n",
    "n_steps = int(tmax/step)\n",
    "t_array = np.linspace(0, tmax, n_steps)\n",
    "H_ext = gr.generar_arreglo_H(posiciones, t_array, k=[0, 10, 0])\n",
    "grilla_nodos = sp.simular_spines(t_array, lista_nodos0)\n",
    "spines = sp.extraer_spines(grilla_nodos)\n",
    "sp.guardar_spines(spines, posiciones)"
   ]
  },
  {
   "cell_type": "code",
   "execution_count": null,
   "metadata": {
    "collapsed": false
   },
   "outputs": [],
   "source": [
    "spines_en_t = spines[:, 50, :]\n",
    "ft_spines, momentos = gr.ft_gr_instante(spines_en_t, posiciones, n, n, 1.0)"
   ]
  },
  {
   "cell_type": "code",
   "execution_count": null,
   "metadata": {
    "collapsed": false
   },
   "outputs": [],
   "source": [
    "momentos"
   ]
  },
  {
   "cell_type": "code",
   "execution_count": null,
   "metadata": {
    "collapsed": false
   },
   "outputs": [],
   "source": [
    "fig = plt.figure()\n",
    "ax = fig.add_subplot(111, projection='3d')\n",
    "ax.scatter(momentos[:, 0], momentos[:, 1], ft_spines[:, 1])\n",
    "ax.set_xlabel('$k_x$')\n",
    "ax.set_ylabel('$k_y$')\n",
    "ax.set_zlabel('($S_x$)')"
   ]
  },
  {
   "cell_type": "code",
   "execution_count": null,
   "metadata": {
    "collapsed": false
   },
   "outputs": [],
   "source": [
    "run animacion.py"
   ]
  },
  {
   "cell_type": "code",
   "execution_count": null,
   "metadata": {
    "collapsed": false
   },
   "outputs": [],
   "source": [
    "i = 0\n",
    "fig = plt.figure(1)\n",
    "sp.plotear_instante_grilla(spines, i, posiciones, fig)"
   ]
  },
  {
   "cell_type": "code",
   "execution_count": null,
   "metadata": {
    "collapsed": false
   },
   "outputs": [],
   "source": [
    "a = np.array([[0, 2, 4], [3, 5, 6]])\n",
    "a[:, [0, 1, 2]]"
   ]
  },
  {
   "cell_type": "code",
   "execution_count": null,
   "metadata": {
    "collapsed": false
   },
   "outputs": [],
   "source": [
    "plt.figure(1)\n",
    "plt.plot([0], [0], '.', color=(0.5, 0.00, 1), markersize=20)\n",
    "plt.plot([0], [1], '.', color=(0, 0.00, 1), markersize=20)\n",
    "plt.plot([0], [2], '.', color=(0.2, 0.7, 0.9), markersize=20)\n",
    "plt.plot([0], [3], '.', color=(0.1, 0.8, 0.4), markersize=20)\n",
    "plt.plot([0], [4], '.', color=(0.6, 1, 0.1), markersize=20)\n",
    "\n",
    "plt.plot([0], [5], '.', color=(0.8, 0.8, 0.0), markersize=20)\n",
    "\n",
    "plt.plot([0], [6], '.', color=(0.9, 0, 0), markersize=20)\n",
    "\n",
    "\n",
    "plt.show()"
   ]
  },
  {
   "cell_type": "code",
   "execution_count": null,
   "metadata": {
    "collapsed": true
   },
   "outputs": [],
   "source": [
    "def seleccionar_color(sx, sy, sz):\n",
    "    cos_th = sz / np.sqrt(sx ** 2 + sy ** 2 + sz ** 2)\n",
    "    if cos_th > 0.7:\n",
    "        return (0.95, 0, 0)\n",
    "    else if cos_th > 0.4:\n",
    "        return (0.95, 0.95, 0.0)\n",
    "    else if cos_th > 0.125:\n",
    "        return (0.6, 1, 0.1)\n",
    "    else if cos_th > -0.125:\n",
    "        return (0.1, 0.8, 0.4)\n",
    "    else if cos_th > -0.4:\n",
    "        return (0.2, 0.7, 0.9)\n",
    "    else if cos_th > -0.7:\n",
    "        return (0, 0.00, 1)\n",
    "    else:\n",
    "        return (0.5, 0.00, 1)"
   ]
  }
 ],
 "metadata": {
  "kernelspec": {
   "display_name": "Python [Root]",
   "language": "python",
   "name": "Python [Root]"
  },
  "language_info": {
   "codemirror_mode": {
    "name": "ipython",
    "version": 2
   },
   "file_extension": ".py",
   "mimetype": "text/x-python",
   "name": "python",
   "nbconvert_exporter": "python",
   "pygments_lexer": "ipython2",
   "version": "2.7.12"
  }
 },
 "nbformat": 4,
 "nbformat_minor": 0
}
